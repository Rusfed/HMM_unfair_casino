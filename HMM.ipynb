{
 "cells": [
  {
   "cell_type": "code",
   "execution_count": 2,
   "metadata": {},
   "outputs": [],
   "source": [
    "import numpy as np\n",
    "import matplotlib.pyplot as plt\n",
    "import matplotlib\n",
    "import random\n",
    "matplotlib.rcParams.update({'font.size': 20})"
   ]
  },
  {
   "cell_type": "code",
   "execution_count": 3,
   "metadata": {},
   "outputs": [],
   "source": [
    "pi=np.array([2.0/3,1.0/3])   # beginning distribution (as stationary distribution)\n",
    "A=np.array([[.95,.05],[.1,.9]])   # Transition matrix\n",
    "B=np.array([[1.0/6 for i in range(6)],[.1,.1,.1,.1,.1,.5]])  # Emission matrix\n",
    "L=300"
   ]
  },
  {
   "cell_type": "code",
   "execution_count": 4,
   "metadata": {},
   "outputs": [],
   "source": [
    "def generate_st(weights):  # generate next state\n",
    "    choice = random.random()\n",
    "    for i, w in enumerate(weights):\n",
    "        choice -= w\n",
    "        if choice < 0:\n",
    "            return i"
   ]
  },
  {
   "cell_type": "code",
   "execution_count": 6,
   "metadata": {},
   "outputs": [],
   "source": [
    "# function generate a sequence HMM\n",
    "def hidden_seq():\n",
    "    out=[0 for i in range(L)]\n",
    "    out[0]=generate_st(pi)\n",
    "    for i in range(1,L):\n",
    "        out[i]=generate_st(A[out[i-1]])\n",
    "    return out\n",
    "   \n",
    "def obs_seq(hidden):\n",
    "    out=[0 for i in range(L)]\n",
    "    for i in range(L):\n",
    "        out[i]=generate_st(B[hidden[i]])\n",
    "    return out"
   ]
  },
  {
   "cell_type": "code",
   "execution_count": 25,
   "metadata": {},
   "outputs": [
    {
     "data": {
      "text/plain": [
       "array([1, 1, 1, 1, 1, 1, 1, 1, 1, 1, 1, 1, 1, 1, 1, 1, 1, 1, 1, 1, 1, 1,\n",
       "       1, 1, 1, 1, 1, 1, 1, 1, 1, 1, 1, 1, 1, 1, 1, 1, 1, 1, 1, 1, 1, 1,\n",
       "       1, 1, 1, 1, 1, 1, 0, 0, 0, 0, 0, 0, 0, 0, 0, 0, 0, 0, 0, 0, 0, 0,\n",
       "       0, 0, 0, 0, 0, 0, 0, 0, 0, 0, 0, 0, 0, 0, 0, 0, 0, 0, 0, 1, 1, 1,\n",
       "       1, 1, 1, 1, 0, 0, 0, 0, 0, 0, 0, 0, 0, 0, 0, 0, 0, 0, 0, 0, 0, 1,\n",
       "       1, 1, 1, 1, 1, 1, 1, 1, 1, 0, 0, 0, 0, 0, 0, 0, 0, 0, 0, 0, 0, 0,\n",
       "       0, 0, 0, 0, 0, 0, 0, 0, 0, 0, 0, 0, 1, 1, 1, 1, 1, 1, 1, 0, 0, 0,\n",
       "       0, 0, 0, 0, 0, 0, 0, 0, 0, 0, 0, 0, 0, 0, 0, 0, 0, 1, 1, 1, 1, 1,\n",
       "       1, 1, 1, 1, 1, 1, 1, 1, 1, 1, 1, 1, 1, 1, 0, 0, 0, 0, 0, 0, 0, 0,\n",
       "       0, 0, 0, 0, 0, 0, 0, 0, 0, 0, 0, 0, 0, 0, 0, 0, 0, 0, 0, 0, 1, 1,\n",
       "       1, 0, 1, 1, 1, 1, 1, 0, 0, 0, 0, 0, 0, 0, 0, 0, 0, 0, 0, 0, 0, 0,\n",
       "       0, 0, 0, 0, 0, 0, 0, 0, 0, 0, 0, 1, 1, 1, 0, 0, 0, 0, 0, 0, 0, 0,\n",
       "       0, 0, 0, 0, 0, 0, 0, 0, 0, 0, 0, 0, 0, 0, 0, 0, 0, 0, 0, 0, 0, 0,\n",
       "       0, 0, 0, 0, 0, 0, 0, 0, 0, 0, 0, 0, 0, 0])"
      ]
     },
     "execution_count": 25,
     "metadata": {},
     "output_type": "execute_result"
    }
   ],
   "source": [
    "hidden=np.array(hidden_seq())\n",
    "observed=np.array(obs_seq(hidden))\n",
    "hidden"
   ]
  },
  {
   "cell_type": "code",
   "execution_count": 8,
   "metadata": {},
   "outputs": [],
   "source": [
    "def viterbi(obs_seq,pi, A, B):\n",
    "    # returns the most likely state sequence given observed sequence x\n",
    "    # using the Viterbi algorithm\n",
    "    T = len(obs_seq)\n",
    "    N = A.shape[0]\n",
    "    delta = np.zeros((T, N))\n",
    "    psi = np.zeros((T, N))\n",
    "    delta[0] = pi*B[:,obs_seq[0]]\n",
    "    for t in range(1, T):\n",
    "        for j in range(N):\n",
    "            delta[t,j] = np.max(delta[t-1]*A[:,j]) * B[j, obs_seq[t]]\n",
    "            psi[t,j] = np.argmax(delta[t-1]*A[:,j])\n",
    "\n",
    "    # backtrack\n",
    "    states = np.zeros(T, dtype=np.int32)\n",
    "    states[T-1] = np.argmax(delta[T-1])\n",
    "    for t in range(T-2, -1, -1):\n",
    "        states[t] = psi[t+1, states[t+1]]\n",
    "    return states"
   ]
  },
  {
   "cell_type": "code",
   "execution_count": 26,
   "metadata": {},
   "outputs": [],
   "source": [
    "path=viterbi(observed,pi, A, B)"
   ]
  },
  {
   "cell_type": "code",
   "execution_count": 27,
   "metadata": {},
   "outputs": [
    {
     "data": {
      "text/plain": [
       "array([1, 1, 1, 1, 1, 1, 1, 1, 1, 1, 1, 1, 1, 1, 1, 1, 1, 1, 1, 1, 1, 1,\n",
       "       1, 1, 1, 1, 1, 1, 1, 1, 1, 1, 1, 1, 1, 1, 1, 1, 1, 1, 1, 1, 1, 1,\n",
       "       1, 0, 0, 0, 0, 0, 0, 0, 0, 0, 0, 0, 0, 0, 0, 0, 0, 0, 0, 0, 0, 0,\n",
       "       0, 0, 0, 0, 0, 0, 0, 0, 0, 0, 0, 0, 0, 0, 0, 0, 0, 0, 0, 0, 0, 0,\n",
       "       0, 0, 0, 0, 0, 0, 0, 0, 0, 0, 0, 0, 0, 0, 0, 0, 0, 0, 1, 1, 1, 1,\n",
       "       1, 1, 1, 1, 1, 1, 1, 0, 0, 0, 0, 0, 0, 0, 0, 0, 0, 0, 0, 0, 0, 0,\n",
       "       0, 0, 0, 0, 0, 0, 0, 0, 0, 0, 0, 0, 0, 0, 0, 0, 0, 0, 0, 0, 0, 0,\n",
       "       0, 0, 0, 0, 0, 0, 0, 0, 1, 1, 1, 1, 1, 1, 1, 1, 1, 1, 1, 1, 1, 1,\n",
       "       1, 1, 1, 1, 1, 1, 1, 1, 1, 1, 1, 1, 1, 1, 0, 0, 0, 0, 0, 0, 0, 0,\n",
       "       0, 0, 0, 0, 0, 0, 0, 0, 0, 0, 0, 0, 0, 0, 0, 0, 1, 1, 1, 1, 1, 1,\n",
       "       1, 1, 1, 1, 1, 1, 1, 1, 1, 1, 1, 1, 0, 0, 0, 0, 0, 0, 0, 0, 0, 0,\n",
       "       0, 0, 0, 0, 0, 0, 0, 0, 0, 0, 0, 0, 0, 0, 0, 0, 0, 0, 0, 0, 0, 0,\n",
       "       0, 0, 0, 0, 0, 0, 0, 0, 0, 0, 0, 0, 0, 0, 0, 0, 0, 0, 0, 0, 0, 0,\n",
       "       0, 0, 0, 0, 0, 0, 0, 0, 0, 0, 0, 0, 0, 0])"
      ]
     },
     "execution_count": 27,
     "metadata": {},
     "output_type": "execute_result"
    }
   ],
   "source": [
    "path"
   ]
  },
  {
   "cell_type": "code",
   "execution_count": 11,
   "metadata": {},
   "outputs": [],
   "source": [
    "def forward(obs_seq, pi, A, B):\n",
    "    T = len(obs_seq)\n",
    "    N = A.shape[0]\n",
    "    forw = np.zeros((T, N))\n",
    "    forw[0] = pi*B[:,obs_seq[0]]\n",
    "    for t in range(1, T):\n",
    "        forw[t] = np.dot(forw[t-1],A) * B[:, obs_seq[t]]\n",
    "    proba = forw[-1].sum()\n",
    "    return forw, proba"
   ]
  },
  {
   "cell_type": "code",
   "execution_count": 28,
   "metadata": {},
   "outputs": [
    {
     "data": {
      "text/plain": [
       "4.35154801687087e-224"
      ]
     },
     "execution_count": 28,
     "metadata": {},
     "output_type": "execute_result"
    }
   ],
   "source": [
    "forw, prob_forw = forward(observed, pi, A, B)\n",
    "prob_forw"
   ]
  },
  {
   "cell_type": "code",
   "execution_count": 13,
   "metadata": {},
   "outputs": [],
   "source": [
    "def backward(obs_seq, A, B):\n",
    "    N = A.shape[0]\n",
    "    T = len(obs_seq)\n",
    "\n",
    "    back = np.zeros((N,T))\n",
    "    back[:,-1:] = 1\n",
    "\n",
    "    for t in reversed(range(T-1)):\n",
    "        for n in range(N):\n",
    "            back[n,t] = np.sum(back[:,t+1] * A[n,:] * B[:, obs_seq[t+1]])\n",
    "    \n",
    "    proba = np.sum(pi * B[:, obs_seq[0]] * back[:,0])\n",
    "\n",
    "    return back, proba"
   ]
  },
  {
   "cell_type": "code",
   "execution_count": 29,
   "metadata": {},
   "outputs": [],
   "source": [
    "back, prob_back=backward(observed, A, B)"
   ]
  },
  {
   "cell_type": "code",
   "execution_count": 30,
   "metadata": {},
   "outputs": [
    {
     "data": {
      "text/plain": [
       "4.351548016870873e-224"
      ]
     },
     "execution_count": 30,
     "metadata": {},
     "output_type": "execute_result"
    }
   ],
   "source": [
    "prob_back"
   ]
  },
  {
   "cell_type": "code",
   "execution_count": 31,
   "metadata": {},
   "outputs": [],
   "source": [
    "post_prob=(np.multiply(forw,back.T) / prob_forw) # posterior probabilities"
   ]
  },
  {
   "cell_type": "code",
   "execution_count": 32,
   "metadata": {},
   "outputs": [
    {
     "data": {
      "text/plain": [
       "array([[0.1804943 , 0.8195057 ],\n",
       "       [0.17487154, 0.82512846],\n",
       "       [0.12480355, 0.87519645],\n",
       "       [0.12617167, 0.87382833],\n",
       "       [0.08777839, 0.91222161],\n",
       "       [0.0902723 , 0.9097277 ],\n",
       "       [0.13670721, 0.86329279],\n",
       "       [0.14124689, 0.85875311],\n",
       "       [0.10549447, 0.89450553],\n",
       "       [0.11375456, 0.88624544],\n",
       "       [0.0843667 , 0.9156333 ],\n",
       "       [0.0929718 , 0.9070282 ],\n",
       "       [0.06592779, 0.93407221],\n",
       "       [0.07162325, 0.92837675],\n",
       "       [0.04372286, 0.95627714],\n",
       "       [0.04223548, 0.95776452],\n",
       "       [0.0653398 , 0.9346602 ],\n",
       "       [0.1413273 , 0.8586727 ],\n",
       "       [0.16730214, 0.83269786],\n",
       "       [0.15243701, 0.84756299],\n",
       "       [0.19086425, 0.80913575],\n",
       "       [0.18618537, 0.81381463],\n",
       "       [0.24441418, 0.75558582],\n",
       "       [0.43685242, 0.56314758],\n",
       "       [0.53636287, 0.46363713],\n",
       "       [0.57808634, 0.42191366],\n",
       "       [0.57675698, 0.42324302],\n",
       "       [0.53190532, 0.46809468],\n",
       "       [0.42769256, 0.57230744],\n",
       "       [0.22731732, 0.77268268],\n",
       "       [0.16488698, 0.83511302],\n",
       "       [0.163955  , 0.836045  ],\n",
       "       [0.12027712, 0.87972288],\n",
       "       [0.12538768, 0.87461232],\n",
       "       [0.18554461, 0.81445539],\n",
       "       [0.19858295, 0.80141705],\n",
       "       [0.2875219 , 0.7124781 ],\n",
       "       [0.31953432, 0.68046568],\n",
       "       [0.30592496, 0.69407504],\n",
       "       [0.24188785, 0.75811215],\n",
       "       [0.10480912, 0.89519088],\n",
       "       [0.05979131, 0.94020869],\n",
       "       [0.05170965, 0.94829035],\n",
       "       [0.07066809, 0.92933191],\n",
       "       [0.13988142, 0.86011858],\n",
       "       [0.34410203, 0.65589797],\n",
       "       [0.44969177, 0.55030823],\n",
       "       [0.4939383 , 0.5060617 ],\n",
       "       [0.67485552, 0.32514448],\n",
       "       [0.77277377, 0.22722623],\n",
       "       [0.82227163, 0.17772837],\n",
       "       [0.84082866, 0.15917134],\n",
       "       [0.83499802, 0.16500198],\n",
       "       [0.80272071, 0.19727929],\n",
       "       [0.73259839, 0.26740161],\n",
       "       [0.59986826, 0.40013174],\n",
       "       [0.57973454, 0.42026546],\n",
       "       [0.51169513, 0.48830487],\n",
       "       [0.53113049, 0.46886951],\n",
       "       [0.50733479, 0.49266521],\n",
       "       [0.56977155, 0.43022845],\n",
       "       [0.58526084, 0.41473916],\n",
       "       [0.55927249, 0.44072751],\n",
       "       [0.48262905, 0.51737095],\n",
       "       [0.495044  , 0.504956  ],\n",
       "       [0.46298122, 0.53701878],\n",
       "       [0.5143789 , 0.4856211 ],\n",
       "       [0.71217402, 0.28782598],\n",
       "       [0.82151456, 0.17848544],\n",
       "       [0.88101274, 0.11898726],\n",
       "       [0.9116796 , 0.0883204 ],\n",
       "       [0.92434473, 0.07565527],\n",
       "       [0.92348068, 0.07651932],\n",
       "       [0.90878231, 0.09121769],\n",
       "       [0.87505908, 0.12494092],\n",
       "       [0.81040205, 0.18959795],\n",
       "       [0.69197844, 0.30802156],\n",
       "       [0.47796843, 0.52203157],\n",
       "       [0.41895778, 0.58104222],\n",
       "       [0.44268735, 0.55731265],\n",
       "       [0.57821422, 0.42178578],\n",
       "       [0.64494863, 0.35505137],\n",
       "       [0.66645698, 0.33354302],\n",
       "       [0.65033467, 0.34966533],\n",
       "       [0.5908883 , 0.4091117 ],\n",
       "       [0.61769937, 0.38230063],\n",
       "       [0.60432518, 0.39567482],\n",
       "       [0.5460428 , 0.4539572 ],\n",
       "       [0.57380718, 0.42619282],\n",
       "       [0.72161605, 0.27838395],\n",
       "       [0.800761  , 0.199239  ],\n",
       "       [0.83919107, 0.16080893],\n",
       "       [0.85047734, 0.14952266],\n",
       "       [0.83860542, 0.16139458],\n",
       "       [0.9011446 , 0.0988554 ],\n",
       "       [0.93565252, 0.06434748],\n",
       "       [0.95431521, 0.04568479],\n",
       "       [0.96372317, 0.03627683],\n",
       "       [0.9671987 , 0.0328013 ],\n",
       "       [0.96596912, 0.03403088],\n",
       "       [0.95960025, 0.04039975],\n",
       "       [0.94584298, 0.05415702],\n",
       "       [0.91983911, 0.08016089],\n",
       "       [0.87240571, 0.12759429],\n",
       "       [0.78679228, 0.21320772],\n",
       "       [0.63276552, 0.36723448],\n",
       "       [0.35593286, 0.64406714],\n",
       "       [0.26816011, 0.73183989],\n",
       "       [0.26196869, 0.73803131],\n",
       "       [0.2080714 , 0.7919286 ],\n",
       "       [0.08743512, 0.91256488],\n",
       "       [0.0475311 , 0.9524689 ],\n",
       "       [0.03949647, 0.96050353],\n",
       "       [0.05349276, 0.94650724],\n",
       "       [0.10665858, 0.89334142],\n",
       "       [0.11808986, 0.88191014],\n",
       "       [0.18709518, 0.81290482],\n",
       "       [0.39817224, 0.60182776],\n",
       "       [0.50847249, 0.49152751],\n",
       "       [0.55694706, 0.44305294],\n",
       "       [0.56071414, 0.43928586],\n",
       "       [0.52110401, 0.47889599],\n",
       "       [0.56600496, 0.43399504],\n",
       "       [0.75039866, 0.24960134],\n",
       "       [0.85299704, 0.14700296],\n",
       "       [0.9100314 , 0.0899686 ],\n",
       "       [0.94164271, 0.05835729],\n",
       "       [0.95899409, 0.04100591],\n",
       "       [0.96821296, 0.03178704],\n",
       "       [0.97255486, 0.02744514],\n",
       "       [0.97355306, 0.02644694],\n",
       "       [0.97156007, 0.02843993],\n",
       "       [0.96587209, 0.03412791],\n",
       "       [0.95448048, 0.04551952],\n",
       "       [0.93336244, 0.06663756],\n",
       "       [0.89506041, 0.10493959],\n",
       "       [0.8260485 , 0.1739515 ],\n",
       "       [0.70195604, 0.29804396],\n",
       "       [0.47896137, 0.52103863],\n",
       "       [0.41617619, 0.58382381],\n",
       "       [0.28197448, 0.71802552],\n",
       "       [0.25185824, 0.74814176],\n",
       "       [0.28894982, 0.71105018],\n",
       "       [0.28039291, 0.71960709],\n",
       "       [0.34717371, 0.65282629],\n",
       "       [0.36270617, 0.63729383],\n",
       "       [0.47702841, 0.52297159],\n",
       "       [0.52761317, 0.47238683],\n",
       "       [0.72397179, 0.27602821],\n",
       "       [0.83284245, 0.16715755],\n",
       "       [0.89267143, 0.10732857],\n",
       "       [0.92458658, 0.07541342],\n",
       "       [0.93985832, 0.06014168],\n",
       "       [0.94387969, 0.05612031],\n",
       "       [0.93807076, 0.06192924],\n",
       "       [0.9203802 , 0.0796198 ],\n",
       "       [0.8845608 , 0.1154392 ],\n",
       "       [0.81796341, 0.18203659],\n",
       "       [0.69706999, 0.30293001],\n",
       "       [0.68191653, 0.31808347],\n",
       "       [0.62555174, 0.37444826],\n",
       "       [0.50807111, 0.49192889],\n",
       "       [0.28798786, 0.71201214],\n",
       "       [0.22043664, 0.77956336],\n",
       "       [0.22270033, 0.77729967],\n",
       "       [0.18015951, 0.81984049],\n",
       "       [0.19595814, 0.80404186],\n",
       "       [0.28944178, 0.71055822],\n",
       "       [0.32460331, 0.67539669],\n",
       "       [0.31385958, 0.68614042],\n",
       "       [0.25341656, 0.74658344],\n",
       "       [0.1219296 , 0.8780704 ],\n",
       "       [0.08088519, 0.91911481],\n",
       "       [0.08002405, 0.91997595],\n",
       "       [0.1182917 , 0.8817083 ],\n",
       "       [0.11734021, 0.88265979],\n",
       "       [0.07683356, 0.92316644],\n",
       "       [0.07544072, 0.92455928],\n",
       "       [0.03852253, 0.96147747],\n",
       "       [0.02980286, 0.97019714],\n",
       "       [0.03860436, 0.96139564],\n",
       "       [0.01934124, 0.98065876],\n",
       "       [0.01461866, 0.98538134],\n",
       "       [0.01865378, 0.98134622],\n",
       "       [0.03638764, 0.96361236],\n",
       "       [0.0895355 , 0.9104645 ],\n",
       "       [0.1020611 , 0.8979389 ],\n",
       "       [0.16871189, 0.83128811],\n",
       "       [0.1871254 , 0.8128746 ],\n",
       "       [0.2839    , 0.7161    ],\n",
       "       [0.57753713, 0.42246287],\n",
       "       [0.74013476, 0.25986524],\n",
       "       [0.8291122 , 0.1708878 ],\n",
       "       [0.87589067, 0.12410933],\n",
       "       [0.8969894 , 0.1030106 ],\n",
       "       [0.89985914, 0.10014086],\n",
       "       [0.8855133 , 0.1144867 ],\n",
       "       [0.84888584, 0.15111416],\n",
       "       [0.88071884, 0.11928116],\n",
       "       [0.89073133, 0.10926867],\n",
       "       [0.8824591 , 0.1175409 ],\n",
       "       [0.85298091, 0.14701909],\n",
       "       [0.79188692, 0.20811308],\n",
       "       [0.80907618, 0.19092382],\n",
       "       [0.79887229, 0.20112771],\n",
       "       [0.75767189, 0.24232811],\n",
       "       [0.67092558, 0.32907442],\n",
       "       [0.67629844, 0.32370156],\n",
       "       [0.64395172, 0.35604828],\n",
       "       [0.69603898, 0.30396102],\n",
       "       [0.70850805, 0.29149195],\n",
       "       [0.68576222, 0.31423778],\n",
       "       [0.61976909, 0.38023091],\n",
       "       [0.48722403, 0.51277597],\n",
       "       [0.24132045, 0.75867955],\n",
       "       [0.16133814, 0.83866186],\n",
       "       [0.14933796, 0.85066204],\n",
       "       [0.09241367, 0.90758633],\n",
       "       [0.08383406, 0.91616594],\n",
       "       [0.11309335, 0.88690665],\n",
       "       [0.10476939, 0.89523061],\n",
       "       [0.14024904, 0.85975096],\n",
       "       [0.13553368, 0.86446632],\n",
       "       [0.18338707, 0.81661293],\n",
       "       [0.34240615, 0.65759385],\n",
       "       [0.42028593, 0.57971407],\n",
       "       [0.44452866, 0.55547134],\n",
       "       [0.42369535, 0.57630465],\n",
       "       [0.48654054, 0.51345946],\n",
       "       [0.50026907, 0.49973093],\n",
       "       [0.46972901, 0.53027099],\n",
       "       [0.52308371, 0.47691629],\n",
       "       [0.72566653, 0.27433347],\n",
       "       [0.83832945, 0.16167055],\n",
       "       [0.90085794, 0.09914206],\n",
       "       [0.93533315, 0.06466685],\n",
       "       [0.95392956, 0.04607044],\n",
       "       [0.96321425, 0.03678575],\n",
       "       [0.96646598, 0.03353402],\n",
       "       [0.96483307, 0.03516693],\n",
       "       [0.95773888, 0.04226112],\n",
       "       [0.94267819, 0.05732181],\n",
       "       [0.9143325 , 0.0856675 ],\n",
       "       [0.94278301, 0.05721699],\n",
       "       [0.95793845, 0.04206155],\n",
       "       [0.96515075, 0.03484925],\n",
       "       [0.96696686, 0.03303314],\n",
       "       [0.96402811, 0.03597189],\n",
       "       [0.95529672, 0.04470328],\n",
       "       [0.9376893 , 0.0623107 ],\n",
       "       [0.90498803, 0.09501197],\n",
       "       [0.84564485, 0.15435515],\n",
       "       [0.7387035 , 0.2612965 ],\n",
       "       [0.72979021, 0.27020979],\n",
       "       [0.68442138, 0.31557862],\n",
       "       [0.5865756 , 0.4134244 ],\n",
       "       [0.58604318, 0.41395682],\n",
       "       [0.54249559, 0.45750441],\n",
       "       [0.58370242, 0.41629758],\n",
       "       [0.76012183, 0.23987817],\n",
       "       [0.85826873, 0.14173127],\n",
       "       [0.91280244, 0.08719756],\n",
       "       [0.94298085, 0.05701915],\n",
       "       [0.95946108, 0.04053892],\n",
       "       [0.96806291, 0.03193709],\n",
       "       [0.97182398, 0.02817602],\n",
       "       [0.97207245, 0.02792755],\n",
       "       [0.96889608, 0.03110392],\n",
       "       [0.96117316, 0.03882684],\n",
       "       [0.94617643, 0.05382357],\n",
       "       [0.91861002, 0.08138998],\n",
       "       [0.94685912, 0.05314088],\n",
       "       [0.96247287, 0.03752713],\n",
       "       [0.97096506, 0.02903494],\n",
       "       [0.9753346 , 0.0246654 ],\n",
       "       [0.97712453, 0.02287547],\n",
       "       [0.97696694, 0.02303306],\n",
       "       [0.97480618, 0.02519382],\n",
       "       [0.96987921, 0.03012079],\n",
       "       [0.96044613, 0.03955387],\n",
       "       [0.94317577, 0.05682423],\n",
       "       [0.91196932, 0.08803068],\n",
       "       [0.85580662, 0.14419338],\n",
       "       [0.87034835, 0.12965165],\n",
       "       [0.86393684, 0.13606316],\n",
       "       [0.83430796, 0.16569204],\n",
       "       [0.77099864, 0.22900136],\n",
       "       [0.78809434, 0.21190566],\n",
       "       [0.77595433, 0.22404567],\n",
       "       [0.73029151, 0.26970849],\n",
       "       [0.76484247, 0.23515753],\n",
       "       [0.76693934, 0.23306066],\n",
       "       [0.85969141, 0.14030859],\n",
       "       [0.91086703, 0.08913297],\n",
       "       [0.93853821, 0.06146179],\n",
       "       [0.95247667, 0.04752333],\n",
       "       [0.95760462, 0.04239538],\n",
       "       [0.95573291, 0.04426709],\n",
       "       [0.94620059, 0.05379941],\n",
       "       [0.92564142, 0.07435858]])"
      ]
     },
     "execution_count": 32,
     "metadata": {},
     "output_type": "execute_result"
    }
   ],
   "source": [
    "post_prob"
   ]
  },
  {
   "cell_type": "code",
   "execution_count": 33,
   "metadata": {},
   "outputs": [
    {
     "data": {
      "text/plain": [
       "[<matplotlib.lines.Line2D at 0x874a438>]"
      ]
     },
     "execution_count": 33,
     "metadata": {},
     "output_type": "execute_result"
    },
    {
     "data": {
      "image/png": "[encoded data removed]",
      "text/plain": [
       "<Figure size 432x288 with 1 Axes>"
      ]
     },
     "metadata": {},
     "output_type": "display_data"
    }
   ],
   "source": [
    "# Plot posterior probabilities (black line) and sequence hidden state (yellow - \"Fair\", Red - \"Unfair\")\n",
    "for i in range(300):\n",
    "    if hidden[i] == 0:\n",
    "        plt.axvline(x = i, color ='yellow' )\n",
    "    else:\n",
    "        plt.axvline(x = i, color = 'red')\n",
    "plt.plot(range(L), post_prob[:,0],color = 'black')"
   ]
  },
  {
   "cell_type": "code",
   "execution_count": 34,
   "metadata": {},
   "outputs": [
    {
     "data": {
      "text/plain": [
       "[<matplotlib.lines.Line2D at 0x8fbcc18>]"
      ]
     },
     "execution_count": 34,
     "metadata": {},
     "output_type": "execute_result"
    },
    {
     "data": {
      "image/png": "[encoded data removed]",
      "text/plain": [
       "<Figure size 432x288 with 1 Axes>"
      ]
     },
     "metadata": {},
     "output_type": "display_data"
    }
   ],
   "source": [
    "# Plot posterior probabilities (black line) and the most probably path, generated Viterbi (yellow - \"Fair\", Red - \"Unfair\")\n",
    "for i in range(L):\n",
    "    if path[i] == 0:\n",
    "        plt.axvline(x = i, color ='yellow')\n",
    "    else:\n",
    "        plt.axvline(x = i, color = 'red')\n",
    "plt.plot(range(L), post_prob[:,0],color = 'black')"
   ]
  },
  {
   "cell_type": "markdown",
   "metadata": {},
   "source": [
    "TEST"
   ]
  },
  {
   "cell_type": "code",
   "execution_count": 35,
   "metadata": {},
   "outputs": [],
   "source": [
    "# Observation from book \"Biological sequence analysis\"\n",
    "obs_test = np.loadtxt('C:/Users/User/Desktop/HMM/obs_sequence_D.txt',dtype=np.int32) "
   ]
  },
  {
   "cell_type": "code",
   "execution_count": 40,
   "metadata": {},
   "outputs": [],
   "source": [
    "forw_test, proba_test = forward(obs_test, pi, A, B)"
   ]
  },
  {
   "cell_type": "code",
   "execution_count": 62,
   "metadata": {},
   "outputs": [],
   "source": [
    "# generate 1000 observed states\n",
    "gen_seq_test = [np.asarray(obs_seq(hidden_seq())) for i in range(1000)]"
   ]
  },
  {
   "cell_type": "code",
   "execution_count": 63,
   "metadata": {},
   "outputs": [],
   "source": [
    "forw_proba_test= [forward(i, pi, A, B)[1] for i in gen_seq_test] # probabilities sor generated states"
   ]
  },
  {
   "cell_type": "code",
   "execution_count": 64,
   "metadata": {},
   "outputs": [
    {
     "name": "stdout",
     "output_type": "stream",
     "text": [
      "0.754\n"
     ]
    }
   ],
   "source": [
    "dover = 0\n",
    "for i in forw_proba_test:\n",
    "    if i < proba_test:\n",
    "        dover += 1\n",
    "dover /= 1000\n",
    "print(dover)"
   ]
  },
  {
   "cell_type": "code",
   "execution_count": null,
   "metadata": {},
   "outputs": [],
   "source": []
  }
 ],
 "metadata": {
  "kernelspec": {
   "display_name": "Python 3",
   "language": "python",
   "name": "python3"
  },
  "language_info": {
   "codemirror_mode": {
    "name": "ipython",
    "version": 3
   },
   "file_extension": ".py",
   "mimetype": "text/x-python",
   "name": "python",
   "nbconvert_exporter": "python",
   "pygments_lexer": "ipython3",
   "version": "3.6.5"
  }
 },
 "nbformat": 4,
 "nbformat_minor": 2
}
